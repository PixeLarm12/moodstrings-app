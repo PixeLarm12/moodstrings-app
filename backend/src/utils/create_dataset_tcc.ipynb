{
  "cells": [
    {
      "cell_type": "code",
      "execution_count": 8,
      "metadata": {
        "colab": {
          "base_uri": "https://localhost:8080/"
        },
        "id": "hBWrnsTE-9LB",
        "outputId": "f122b96c-00cf-446e-efa0-0dea09e0d0f1"
      },
      "outputs": [
        {
          "name": "stderr",
          "output_type": "stream",
          "text": [
            "100%|██████████| 13/13 [00:00<00:00, 18.59it/s]"
          ]
        },
        {
          "name": "stdout",
          "output_type": "stream",
          "text": [
            "\n",
            "✅ Arquivo CSV salvo em: /content/drive/MyDrive/UNESP/TCC/Datasets/dataset_test/final/midi_chord_progressions3.csv\n"
          ]
        },
        {
          "name": "stderr",
          "output_type": "stream",
          "text": [
            "\n"
          ]
        }
      ],
      "source": [
        "import os\n",
        "import re\n",
        "import pandas as pd\n",
        "import pretty_midi\n",
        "from music21 import chord, pitch\n",
        "from tqdm import tqdm\n",
        "\n",
        "# Dicionário dos instrumentos de cordas alvo (MIDI program numbers)\n",
        "INSTRUMENTS_TARGET = {\n",
        "    24: 'guitar',             # Nylon Acoustic Guitar\n",
        "    25: 'guitar_steel',       # Steel Acoustic Guitar\n",
        "    26: 'jazz_guitar',\n",
        "    27: 'clean_guitar',\n",
        "    28: 'muted_guitar',\n",
        "    29: 'overdrive_guitar',\n",
        "    30: 'distortion_guitar',\n",
        "    31: 'guitar_harmonics'\n",
        "}\n",
        "\n",
        "# Função para converter pitches para nome harmônico usando music21\n",
        "def notes_to_chord_name(pitches: list[int]) -> str:\n",
        "    if not pitches:\n",
        "        return \"\"\n",
        "    try:\n",
        "        # Converte os pitches para objetos Pitch do music21\n",
        "        p_notes = [pitch.Pitch(midi=p) for p in pitches]\n",
        "        c = chord.Chord(p_notes)\n",
        "        return c.figure  # Ex: \"Cmaj7\", \"Am\", \"F#dim\"\n",
        "    except Exception as e:\n",
        "        return '+'.join([pretty_midi.note_number_to_name(p) for p in pitches])\n",
        "\n",
        "\n",
        "# Função para extrair progressão harmônica de um instrumento\n",
        "def extract_chord_sequence(instrument: pretty_midi.Instrument):\n",
        "    chord_sequence = []\n",
        "    notes_sorted = sorted(instrument.notes, key=lambda x: x.start)\n",
        "\n",
        "    i = 0\n",
        "    while i < len(notes_sorted):\n",
        "        start_time = notes_sorted[i].start\n",
        "        chord = [notes_sorted[i].pitch]\n",
        "        j = i + 1\n",
        "        while j < len(notes_sorted) and abs(notes_sorted[j].start - start_time) < 0.05:\n",
        "            chord.append(notes_sorted[j].pitch)\n",
        "            j += 1\n",
        "        chord = sorted(chord)\n",
        "        chord_name = notes_to_chord_name(chord)\n",
        "        if chord_name not in chord_sequence:\n",
        "            chord_sequence.append(chord_name)\n",
        "        i = j\n",
        "\n",
        "    return chord_sequence\n",
        "\n",
        "# Função para processar um único arquivo MIDI\n",
        "def process_midi_file(file_path):\n",
        "    filename = os.path.basename(file_path)\n",
        "    match = re.match(r'XMIDI_(\\w+)_(\\w+)_([a-zA-Z0-9]{8})\\.midi', filename)\n",
        "    if not match:\n",
        "        return []\n",
        "\n",
        "    emotion, genre, file_id = match.groups()\n",
        "    try:\n",
        "        midi_data = pretty_midi.PrettyMIDI(file_path)\n",
        "    except Exception as e:\n",
        "        print(f\"Erro ao processar {filename}: {e}\")\n",
        "        return []\n",
        "\n",
        "    rows = []\n",
        "    for instrument in midi_data.instruments:\n",
        "        if instrument.program in INSTRUMENTS_TARGET and not instrument.is_drum:\n",
        "            progression = extract_chord_sequence(instrument)\n",
        "            if progression:\n",
        "                rows.append({\n",
        "                    'progression': ' - '.join(progression),\n",
        "                    'instrument': INSTRUMENTS_TARGET[instrument.program],\n",
        "                    'emotion': emotion,\n",
        "                    'genre': genre,\n",
        "                    'file_ID': file_id\n",
        "                })\n",
        "    return rows\n",
        "\n",
        "# ✅ Caminhos do seu Google Drive\n",
        "midi_dir = '/content/drive/MyDrive/UNESP/TCC/Datasets/dataset_test/raw'\n",
        "output_csv = '/content/drive/MyDrive/UNESP/TCC/Datasets/dataset_test/final/midi_chord_progressions3.csv'\n",
        "\n",
        "# Processa todos os arquivos MIDI na pasta\n",
        "all_data = []\n",
        "for file in tqdm(os.listdir(midi_dir)):\n",
        "    if file.endswith('.mid') or file.endswith('.midi'):\n",
        "        file_path = os.path.join(midi_dir, file)\n",
        "        rows = process_midi_file(file_path)\n",
        "        all_data.extend(rows)\n",
        "\n",
        "# Salva em CSV\n",
        "df = pd.DataFrame(all_data)\n",
        "df.to_csv(output_csv, index=False)\n",
        "print(f\"\\n✅ Arquivo CSV salvo em: {output_csv}\")\n"
      ]
    }
  ],
  "metadata": {
    "colab": {
      "provenance": []
    },
    "kernelspec": {
      "display_name": "Python 3",
      "name": "python3"
    },
    "language_info": {
      "name": "python"
    }
  },
  "nbformat": 4,
  "nbformat_minor": 0
}
